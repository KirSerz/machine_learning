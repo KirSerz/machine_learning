{
 "cells": [
  {
   "cell_type": "code",
   "execution_count": 64,
   "metadata": {},
   "outputs": [],
   "source": [
    "# -*- coding: utf-8 -*-\n",
    "\"\"\"\n",
    "Created on Tue Dec 24 02:24:12 2019\n",
    "\n",
    "@author: Admin\n",
    "\"\"\"\n",
    "\n",
    "import pandas as pd\n",
    "import numpy as np\n",
    "\n",
    "from scipy.signal import savgol_filter, argrelextrema\n",
    "import openpyxl\n",
    "\n",
    "import numpy as np\n",
    "import matplotlib.pyplot as plt\n",
    "from mpl_toolkits.mplot3d import Axes3D\n",
    "from sklearn import decomposition\n",
    "from sklearn import datasets\n",
    "\n",
    "import pickle\n",
    "from sklearn import linear_model\n",
    "from sklearn.model_selection import cross_val_score\n",
    "from sklearn.model_selection import train_test_split\n",
    "from sklearn.metrics import f1_score\n",
    "from sklearn import metrics\n",
    "from sklearn import preprocessing\n",
    "from sklearn.model_selection import GridSearchCV\n",
    "# from sklearn.grid_search import GridSearchCV\n",
    "from sklearn.ensemble import RandomForestClassifier, VotingClassifier\n",
    "from sklearn.metrics import confusion_matrix\n",
    "\n",
    "import warnings,os\n",
    "warnings.simplefilter('ignore')\n",
    "\n",
    "import matplotlib as mpl\n",
    "import matplotlib.dates as mdates\n",
    "import datetime as dt\n",
    "import csv\n",
    "\n",
    "import seaborn as sns\n",
    "import matplotlib.pyplot as plt\n",
    "\n",
    "from pylab import rcParams\n",
    "\n",
    "path=\"C:\\\\Users\\\\Admin\\\\Documents\\\\\""
   ]
  },
  {
   "cell_type": "code",
   "execution_count": 65,
   "metadata": {},
   "outputs": [],
   "source": [
    "# def CreateData(dataFrame):\n",
    "# #    dataset =np.array( dataFrame.iloc[:, 0:964])\n",
    "#     dataset =np.array( dataFrame.iloc[:, list(dataFrame.columns).index(284.893653497196):list(dataFrame.columns).index(2162.7174062946)])    \n",
    "#     target = dataFrame.loc[:,['label']]\n",
    "#     target = np.array(target.replace(to_replace=['О', 'К'], value=[1, 0]))\n",
    "#     target =target.astype('int32')   \n",
    "#     target.transpose()\n",
    "#     return dataset,target\n",
    "\n",
    "def CreateData(dataFrame):\n",
    "    dataset =np.array( dataFrame.iloc[:, 0:1044])\n",
    "    target = dataFrame.loc[:,['label']]\n",
    "    target = np.array(target.replace(to_replace=['О', 'К'], value=[1, 0]))\n",
    "    target =target.astype('int32')   \n",
    "    target.transpose()\n",
    "    x=np.where(np.isnan(dataset))[0]\n",
    "    x=np.unique(x)\n",
    "    i=0   \n",
    "    for item in x:\n",
    "        dataset=np.delete(dataset, item-i, axis=0)\n",
    "        target=np.delete(target, item-i)\n",
    "        i+=1\n",
    "    return dataset,target"
   ]
  },
  {
   "cell_type": "code",
   "execution_count": 66,
   "metadata": {},
   "outputs": [],
   "source": [
    "#сохранение\n",
    "def saveModel(score,path,nameModel):\n",
    "    save=False\n",
    "    dateFile = os.listdir(path)\n",
    "    name=path+ str(score)+'_'+nameModel+'.pkl'\n",
    "    for item in dateFile:\n",
    "        temp=item.split('_')\n",
    "        if len(temp)==2:\n",
    "            if (temp[1].find(nameModel)!=-1):\n",
    "                if (float(temp[0])<score):\n",
    "                    print(\"Модель\",nameModel,\"сохранена\\n\")\n",
    "                    save=True\n",
    "                break\n",
    "    else:\n",
    "        save=True\n",
    "    return save,name"
   ]
  },
  {
   "cell_type": "markdown",
   "metadata": {},
   "source": [
    "# StandardScaler\n",
    "Идея StandardScaler заключается в том, что он преобразует данные так, что бы их распределение будет иметь среднее значение 0 и стандартное отклонение 1. Учитывая распределение данных, каждое значение в наборе данных будет вычтено из среднего значения выборки, а затем разделено на стандартное отклонение всего набора данных."
   ]
  },
  {
   "cell_type": "code",
   "execution_count": 67,
   "metadata": {},
   "outputs": [],
   "source": [
    "# path=\"C:\\\\Users\\\\admin\\\\Downloads\\\\Telegram Desktop\\\\new_sav_filter_data_scaled.xlsx\"\n",
    "path=\"C:\\\\Users\\\\Admin\\\\Documents\\\\PythonRamanCopy\\\\raman2.xlsx\"\n",
    "\n",
    "dataFrame = pd.read_excel(path)\n",
    "clear_data, target=CreateData(dataFrame)\n",
    "\n",
    "train_dataset ,  test_dataset ,  train_target ,  test_target=train_test_split(clear_data, target, test_size=0.10,stratify=target)\n",
    "from sklearn.preprocessing import StandardScaler \n",
    "scaler = StandardScaler()\n",
    "normalized_train_dataset = scaler.fit_transform(train_dataset)\n",
    "normalized_test_dataset = scaler.fit_transform(test_dataset)\n",
    "spec=[]\n",
    "ch=[]"
   ]
  },
  {
   "cell_type": "code",
   "execution_count": null,
   "metadata": {},
   "outputs": [],
   "source": []
  },
  {
   "cell_type": "markdown",
   "metadata": {},
   "source": [
    "# Support Vector Classification"
   ]
  },
  {
   "cell_type": "code",
   "execution_count": 68,
   "metadata": {},
   "outputs": [
    {
     "name": "stdout",
     "output_type": "stream",
     "text": [
      "Fitting 5 folds for each of 18 candidates, totalling 90 fits\n"
     ]
    },
    {
     "name": "stderr",
     "output_type": "stream",
     "text": [
      "[Parallel(n_jobs=1)]: Using backend SequentialBackend with 1 concurrent workers.\n",
      "[Parallel(n_jobs=1)]: Done  90 out of  90 | elapsed:  1.0min finished\n"
     ]
    },
    {
     "name": "stdout",
     "output_type": "stream",
     "text": [
      "0.29478458049886624 0.55 \n",
      "\n",
      "[[33 12]\n",
      " [18 36]]\n",
      "Специфичность 0.7333333333333333\n",
      "Чувствительность 0.6666666666666666\n",
      "--------------\n",
      "f1ScoreWeighted= 0.6975267379679145\n",
      "f1ScoreMacro= 0.6966911764705883\n",
      "f1ScoreBinary= 0.7058823529411765\n",
      "Точноть 0.696969696969697\n"
     ]
    },
    {
     "data": {
      "image/png": "[encoded data removed]",
      "text/plain": [
       "<Figure size 432x288 with 2 Axes>"
      ]
     },
     "metadata": {
      "needs_background": "light"
     },
     "output_type": "display_data"
    }
   ],
   "source": [
    "from sklearn.svm import NuSVC\n",
    "\n",
    "nuSVC=NuSVC()\n",
    "\n",
    "#GridSearchCV\n",
    "#----------------------------------------------------------------------\n",
    "tuned_parameters = {'nu':np.arange(.05,0.95,0.05)}\n",
    "nu_svc = GridSearchCV(nuSVC,param_grid=tuned_parameters,cv=5, verbose=True)\n",
    "nu_svc.fit(normalized_train_dataset, train_target)\n",
    "best_parameter_nu = nu_svc.best_estimator_.nu\n",
    "best_cv_err = 1 - nu_svc.best_score_\n",
    "print (best_cv_err, best_parameter_nu,\"\\n\")\n",
    "\n",
    "#Обучение модели с оптимальными параметрами\n",
    "NuSVC2 = NuSVC(gamma='scale',nu=best_parameter_nu,probability=True)\n",
    "NuSVC2.fit(normalized_train_dataset, train_target)\n",
    "\n",
    "#предсказание\n",
    "expected = test_target\n",
    "predicted = NuSVC2.predict(normalized_test_dataset)\n",
    "predicted_NuSVC2=predicted\n",
    "expected_NuSVC2_traine = train_target\n",
    "predicted_NuSVC2_train = NuSVC2.predict(normalized_train_dataset)\n",
    "\n",
    "#Отрисовка confusion_matrix\n",
    "cm = metrics.confusion_matrix(expected, predicted)\n",
    "print(cm)\n",
    "spec1=cm[0][0]/(cm[0][0]+cm[0][1])\n",
    "spec.append(spec1)\n",
    "ch1=cm[1][1]/(cm[1][0]+cm[1][1])\n",
    "ch.append(ch1)\n",
    "print('Специфичность',spec1)\n",
    "print('Чувствительность',ch1)\n",
    "print('--------------')\n",
    "    \n",
    "\n",
    "ax= plt.subplot()\n",
    "sns.heatmap(cm, annot=True, ax = ax); #annot=True to annotate cells\n",
    "# labels, title and ticks\n",
    "ax.set_xlabel('Predicted labels');\n",
    "ax.set_ylabel('True labels'); \n",
    "ax.set_title('Confusion Matrix'); \n",
    "# ax.xaxis.set_ticklabels(['К', 'О']); \n",
    "# ax.xaxis.set_ticklabels(['К', 'О']); \n",
    "\n",
    "f1ScoreWeighted=f1_score(test_target, predicted, average='weighted')\n",
    "print(\"f1ScoreWeighted=\",f1ScoreWeighted)\n",
    "\n",
    "f1ScoreMacro=f1_score(test_target, predicted, average='macro')\n",
    "print(\"f1ScoreMacro=\",f1ScoreMacro)\n",
    "\n",
    "f1ScoreBinary=f1_score(test_target, predicted, average='binary')\n",
    "print(\"f1ScoreBinary=\",f1ScoreBinary)\n",
    "\n",
    "buff_score=NuSVC2.score(normalized_test_dataset, test_target)\n",
    "print('Точноть',buff_score)\n",
    "Score=[buff_score]\n",
    "NameModel=[\"nuSVC\"]\n",
    "# save,name=saveModel(Score[len(Score)-1],path,NameModel[len(NameModel)-1])\n",
    "\n",
    "# if save==True:\n",
    "#     with open(name, 'wb') as fid:\n",
    "#         pickle.dump(NuSVC2, fid)"
   ]
  },
  {
   "cell_type": "markdown",
   "metadata": {},
   "source": [
    "# Обучающая выборка"
   ]
  },
  {
   "cell_type": "code",
   "execution_count": 69,
   "metadata": {},
   "outputs": [
    {
     "name": "stdout",
     "output_type": "stream",
     "text": [
      "[[379  21]\n",
      " [193 289]]\n",
      "Специфичность 0.9475\n",
      "Чувствительность 0.5995850622406639\n",
      "--------------\n",
      "f1ScoreWeighted= 0.7524906832666974\n",
      "f1ScoreMacro= 0.754816685372241\n",
      "f1ScoreBinary= 0.7297979797979799\n",
      "Точноть 0.7573696145124716\n"
     ]
    },
    {
     "data": {
      "image/png": "[encoded data removed]",
      "text/plain": [
       "<Figure size 432x288 with 2 Axes>"
      ]
     },
     "metadata": {
      "needs_background": "light"
     },
     "output_type": "display_data"
    }
   ],
   "source": [
    "#предсказание\n",
    "expected = train_target\n",
    "predicted = NuSVC2.predict(normalized_train_dataset)\n",
    "\n",
    "#Отрисовка confusion_matrix\n",
    "cm = metrics.confusion_matrix(expected, predicted)\n",
    "print(cm)\n",
    "spec1=cm[0][0]/(cm[0][0]+cm[0][1])\n",
    "spec.append(spec1)\n",
    "ch1=cm[1][1]/(cm[1][0]+cm[1][1])\n",
    "ch.append(ch1)\n",
    "print('Специфичность',spec1)\n",
    "print('Чувствительность',ch1)\n",
    "print('--------------')\n",
    "    \n",
    "ax= plt.subplot()\n",
    "sns.heatmap(cm, annot=True, ax = ax); #annot=True to annotate cells\n",
    "# labels, title and ticks\n",
    "ax.set_xlabel('Predicted labels');\n",
    "ax.set_ylabel('True labels'); \n",
    "ax.set_title('Confusion Matrix'); \n",
    "\n",
    "f1ScoreWeighted=f1_score(train_target, predicted, average='weighted')\n",
    "print(\"f1ScoreWeighted=\",f1ScoreWeighted)\n",
    "\n",
    "f1ScoreMacro=f1_score(train_target, predicted, average='macro')\n",
    "print(\"f1ScoreMacro=\",f1ScoreMacro)\n",
    "\n",
    "f1ScoreBinary=f1_score(train_target, predicted, average='binary')\n",
    "print(\"f1ScoreBinary=\",f1ScoreBinary)\n",
    "\n",
    "buff_score=NuSVC2.score(normalized_train_dataset, train_target)\n",
    "print('Точноть',buff_score)"
   ]
  },
  {
   "cell_type": "markdown",
   "metadata": {},
   "source": [
    "# Дерево принятия решений"
   ]
  },
  {
   "cell_type": "code",
   "execution_count": 70,
   "metadata": {},
   "outputs": [
    {
     "name": "stdout",
     "output_type": "stream",
     "text": [
      "Дерево принятия решений\n",
      "\n",
      "Fitting 5 folds for each of 150 candidates, totalling 750 fits\n"
     ]
    },
    {
     "name": "stderr",
     "output_type": "stream",
     "text": [
      "[Parallel(n_jobs=1)]: Using backend SequentialBackend with 1 concurrent workers.\n"
     ]
    },
    {
     "name": "stdout",
     "output_type": "stream",
     "text": [
      "0.34467120181405897 10 17 \n",
      "\n",
      "[[20 25]\n",
      " [12 42]]\n",
      "Специфичность 0.4444444444444444\n",
      "Чувствительность 0.7777777777777778\n",
      "--------------\n",
      "f1ScoreWeighted= 0.6147901685091769\n",
      "f1ScoreMacro= 0.6068476977567887\n",
      "f1ScoreBinary= 0.694214876033058\n",
      "Точноть 0.6262626262626263\n"
     ]
    },
    {
     "name": "stderr",
     "output_type": "stream",
     "text": [
      "[Parallel(n_jobs=1)]: Done 750 out of 750 | elapsed:    9.4s finished\n"
     ]
    },
    {
     "data": {
      "image/png": "[encoded data removed]",
      "text/plain": [
       "<Figure size 432x288 with 2 Axes>"
      ]
     },
     "metadata": {
      "needs_background": "light"
     },
     "output_type": "display_data"
    }
   ],
   "source": [
    "from sklearn.tree import DecisionTreeClassifier\n",
    "#Cart\n",
    "print(\"Дерево принятия решений\\n\")\n",
    "\n",
    "#GridSearchCV\n",
    "cartModel = DecisionTreeClassifier()\n",
    "tuned_parameters = {'max_depth': np.arange(1,11),\n",
    "                'max_features': np.arange(4,19)}\n",
    "tree_grid = GridSearchCV(cartModel, tuned_parameters,cv=5, \n",
    "                         verbose=True)\n",
    "tree_grid.fit(normalized_train_dataset, train_target)\n",
    "\n",
    "best_parameter_max_depth = tree_grid.best_estimator_.max_depth\n",
    "best_parameter_max_features = tree_grid.best_estimator_.max_features\n",
    "best_cv_err = 1 - tree_grid.best_score_\n",
    "print (best_cv_err, best_parameter_max_depth,best_parameter_max_features,\"\\n\")\n",
    "\n",
    "#Обучение модели с оптимальными параметрами\n",
    "cartModel = DecisionTreeClassifier(max_depth=best_parameter_max_depth,\n",
    "                                   max_features=best_parameter_max_features)\n",
    "cartModel.fit(normalized_train_dataset, train_target)\n",
    "\n",
    "#предсказание\n",
    "expected = test_target\n",
    "predicted = cartModel.predict(normalized_test_dataset)\n",
    "predicted_cartModel=predicted\n",
    "expected_cartModel_traine = train_target\n",
    "predicted_cartModel_train = cartModel.predict(normalized_train_dataset)\n",
    "\n",
    "\n",
    "#Отрисовка confusion_matrix\n",
    "cm = metrics.confusion_matrix(expected, predicted)\n",
    "print(cm)\n",
    "spec1=cm[0][0]/(cm[0][0]+cm[0][1])\n",
    "spec.append(spec1)\n",
    "ch1=cm[1][1]/(cm[1][0]+cm[1][1])\n",
    "ch.append(ch1)\n",
    "print('Специфичность',spec1)\n",
    "print('Чувствительность',ch1)\n",
    "print('--------------')\n",
    "\n",
    "ax= plt.subplot()\n",
    "sns.heatmap(cm, annot=True, ax = ax); #annot=True to annotate cells\n",
    "# labels, title and ticks\n",
    "ax.set_xlabel('Predicted labels');\n",
    "ax.set_ylabel('True labels'); \n",
    "ax.set_title('Confusion Matrix'); \n",
    "# ax.xaxis.set_ticklabels(['К', 'О']); \n",
    "# ax.xaxis.set_ticklabels(['К', 'О']); \n",
    "#--------------------------------------------------------------------\n",
    "\n",
    "f1ScoreWeighted=f1_score(test_target, predicted, average='weighted')\n",
    "print(\"f1ScoreWeighted=\",f1ScoreWeighted)\n",
    "\n",
    "f1ScoreMacro=f1_score(test_target, predicted, average='macro')\n",
    "print(\"f1ScoreMacro=\",f1ScoreMacro)\n",
    "\n",
    "f1ScoreBinary=f1_score(test_target, predicted, average='binary')\n",
    "print(\"f1ScoreBinary=\",f1ScoreBinary)\n",
    "\n",
    "buff_score=cartModel.score(normalized_test_dataset, test_target)\n",
    "print('Точноть',buff_score)\n",
    "Score.append(buff_score)\n",
    "NameModel.append(\"cartModel\")\n",
    "# save,name=saveModel(Score[len(Score)-1],path,NameModel[len(NameModel)-1])\n",
    "\n",
    "# if save==True:\n",
    "#     with open(name, 'wb') as fid:\n",
    "#         pickle.dump(cartModel, fid)"
   ]
  },
  {
   "cell_type": "markdown",
   "metadata": {},
   "source": [
    "# Обучающая выборка"
   ]
  },
  {
   "cell_type": "code",
   "execution_count": 71,
   "metadata": {},
   "outputs": [
    {
     "name": "stdout",
     "output_type": "stream",
     "text": [
      "[[322  78]\n",
      " [ 59 423]]\n",
      "Специфичность 0.805\n",
      "Чувствительность 0.8775933609958506\n",
      "--------------\n",
      "f1ScoreWeighted= 0.8442829420332281\n",
      "f1ScoreMacro= 0.8426072945580634\n",
      "f1ScoreBinary= 0.8606307222787386\n",
      "Точноть 0.844671201814059\n"
     ]
    },
    {
     "data": {
      "image/png": "[encoded data removed]",
      "text/plain": [
       "<Figure size 432x288 with 2 Axes>"
      ]
     },
     "metadata": {
      "needs_background": "light"
     },
     "output_type": "display_data"
    }
   ],
   "source": [
    "#предсказание\n",
    "expected = train_target\n",
    "predicted = cartModel.predict(normalized_train_dataset)\n",
    "\n",
    "#Отрисовка confusion_matrix\n",
    "cm = metrics.confusion_matrix(expected, predicted)\n",
    "print(cm)\n",
    "spec1=cm[0][0]/(cm[0][0]+cm[0][1])\n",
    "spec.append(spec1)\n",
    "ch1=cm[1][1]/(cm[1][0]+cm[1][1])\n",
    "ch.append(ch1)\n",
    "print('Специфичность',spec1)\n",
    "print('Чувствительность',ch1)\n",
    "print('--------------')\n",
    "    \n",
    "ax= plt.subplot()\n",
    "sns.heatmap(cm, annot=True, ax = ax); #annot=True to annotate cells\n",
    "# labels, title and ticks\n",
    "ax.set_xlabel('Predicted labels');\n",
    "ax.set_ylabel('True labels'); \n",
    "ax.set_title('Confusion Matrix'); \n",
    "\n",
    "f1ScoreWeighted=f1_score(train_target, predicted, average='weighted')\n",
    "print(\"f1ScoreWeighted=\",f1ScoreWeighted)\n",
    "\n",
    "f1ScoreMacro=f1_score(train_target, predicted, average='macro')\n",
    "print(\"f1ScoreMacro=\",f1ScoreMacro)\n",
    "\n",
    "f1ScoreBinary=f1_score(train_target, predicted, average='binary')\n",
    "print(\"f1ScoreBinary=\",f1ScoreBinary)\n",
    "\n",
    "buff_score=cartModel.score(normalized_train_dataset, train_target)\n",
    "print('Точноть',buff_score)"
   ]
  },
  {
   "cell_type": "markdown",
   "metadata": {},
   "source": [
    "# Логическая регрессия"
   ]
  },
  {
   "cell_type": "code",
   "execution_count": 72,
   "metadata": {},
   "outputs": [
    {
     "name": "stdout",
     "output_type": "stream",
     "text": [
      "Логическая регрессия\n",
      "\n",
      "0.21541950113378683 86 \n",
      "\n",
      "[[35 10]\n",
      " [13 41]]\n",
      "Специфичность 0.7777777777777778\n",
      "Чувствительность 0.7592592592592593\n",
      "--------------\n",
      "f1ScoreWeighted= 0.7681050132663035\n",
      "f1ScoreMacro= 0.7668202764976959\n",
      "f1ScoreBinary= 0.780952380952381\n",
      "Точноть 0.7676767676767676\n"
     ]
    },
    {
     "data": {
      "image/png": "[encoded data removed]",
      "text/plain": [
       "<Figure size 432x288 with 2 Axes>"
      ]
     },
     "metadata": {
      "needs_background": "light"
     },
     "output_type": "display_data"
    }
   ],
   "source": [
    "from sklearn.linear_model import LogisticRegression\n",
    "#Логическая регрессия\n",
    "print(\"Логическая регрессия\\n\")\n",
    "\n",
    "#GridSearchCV\n",
    "tuned_parameters = {'C': list(range(1,150))}\n",
    "grid = GridSearchCV(LogisticRegression(solver='liblinear'), tuned_parameters, \n",
    "                   cv=5, scoring=\"accuracy\")\n",
    "grid.fit(normalized_train_dataset, train_target)\n",
    "\n",
    "best_cv_err2 = 1 - grid.best_score_\n",
    "best_parameter = grid.best_estimator_.C\n",
    "print (best_cv_err2, best_parameter,\"\\n\")\n",
    "\n",
    "#Обучение модели с оптимальными параметрами\n",
    "lgModel = LogisticRegression(C=best_parameter)\n",
    "lgModel.fit(normalized_train_dataset, train_target)\n",
    "\n",
    "expected = test_target\n",
    "predicted = lgModel.predict(normalized_test_dataset)\n",
    "predicted_lgModel=predicted\n",
    "expected_lgModel_traine = train_target\n",
    "predicted_lgModel_train = lgModel.predict(normalized_train_dataset)\n",
    "\n",
    "#Отрисовка confusion_matrix\n",
    "cm = metrics.confusion_matrix(expected, predicted)\n",
    "print(cm)\n",
    "spec1=cm[0][0]/(cm[0][0]+cm[0][1])\n",
    "spec.append(spec1)\n",
    "ch1=cm[1][1]/(cm[1][0]+cm[1][1])\n",
    "ch.append(ch1)\n",
    "print('Специфичность',spec1)\n",
    "print('Чувствительность',ch1)\n",
    "print('--------------')  \n",
    "\n",
    "ax= plt.subplot()\n",
    "sns.heatmap(cm, annot=True, ax = ax);\n",
    "ax.set_xlabel('Predicted labels');\n",
    "ax.set_ylabel('True labels'); \n",
    "ax.set_title('Confusion Matrix'); \n",
    "# ax.xaxis.set_ticklabels(['К', 'О']); \n",
    "# ax.xaxis.set_ticklabels(['К', 'О']); \n",
    "\n",
    "f1ScoreWeighted=f1_score(test_target, predicted, average='weighted')\n",
    "print(\"f1ScoreWeighted=\",f1ScoreWeighted)\n",
    "\n",
    "f1ScoreMacro=f1_score(test_target, predicted, average='macro')\n",
    "print(\"f1ScoreMacro=\",f1ScoreMacro)\n",
    "\n",
    "f1ScoreBinary=f1_score(test_target, predicted, average='binary')\n",
    "print(\"f1ScoreBinary=\",f1ScoreBinary)\n",
    "\n",
    "buff_score=lgModel.score(normalized_test_dataset, test_target)\n",
    "print('Точноть',buff_score)\n",
    "Score.append(buff_score)\n",
    "NameModel.append(\"lgModel\")\n",
    "# save,name=saveModel(Score[len(Score)-1],path,NameModel[len(NameModel)-1])\n",
    "# if save==True:\n",
    "#     with open(name, 'wb') as fid:\n",
    "#         pickle.dump(lgModel, fid)"
   ]
  },
  {
   "cell_type": "markdown",
   "metadata": {},
   "source": [
    "# Обучающая выборка"
   ]
  },
  {
   "cell_type": "code",
   "execution_count": 73,
   "metadata": {},
   "outputs": [
    {
     "name": "stdout",
     "output_type": "stream",
     "text": [
      "[[358  42]\n",
      " [ 99 383]]\n",
      "Специфичность 0.895\n",
      "Чувствительность 0.7946058091286307\n",
      "--------------\n",
      "f1ScoreWeighted= 0.8404291284157516\n",
      "f1ScoreMacro= 0.8400075131963376\n",
      "f1ScoreBinary= 0.8445424476295479\n",
      "Точноть 0.8401360544217688\n"
     ]
    },
    {
     "data": {
      "image/png": "[encoded data removed]",
      "text/plain": [
       "<Figure size 432x288 with 2 Axes>"
      ]
     },
     "metadata": {
      "needs_background": "light"
     },
     "output_type": "display_data"
    }
   ],
   "source": [
    "#предсказание\n",
    "expected = train_target\n",
    "predicted = lgModel.predict(normalized_train_dataset)\n",
    "\n",
    "#Отрисовка confusion_matrix\n",
    "cm = metrics.confusion_matrix(expected, predicted)\n",
    "print(cm)\n",
    "spec1=cm[0][0]/(cm[0][0]+cm[0][1])\n",
    "spec.append(spec1)\n",
    "ch1=cm[1][1]/(cm[1][0]+cm[1][1])\n",
    "ch.append(ch1)\n",
    "print('Специфичность',spec1)\n",
    "print('Чувствительность',ch1)\n",
    "print('--------------')\n",
    "    \n",
    "ax= plt.subplot()\n",
    "sns.heatmap(cm, annot=True, ax = ax); #annot=True to annotate cells\n",
    "# labels, title and ticks\n",
    "ax.set_xlabel('Predicted labels');\n",
    "ax.set_ylabel('True labels'); \n",
    "ax.set_title('Confusion Matrix'); \n",
    "\n",
    "f1ScoreWeighted=f1_score(train_target, predicted, average='weighted')\n",
    "print(\"f1ScoreWeighted=\",f1ScoreWeighted)\n",
    "\n",
    "f1ScoreMacro=f1_score(train_target, predicted, average='macro')\n",
    "print(\"f1ScoreMacro=\",f1ScoreMacro)\n",
    "\n",
    "f1ScoreBinary=f1_score(train_target, predicted, average='binary')\n",
    "print(\"f1ScoreBinary=\",f1ScoreBinary)\n",
    "\n",
    "buff_score=lgModel.score(normalized_train_dataset, train_target)\n",
    "print('Точноть',buff_score)"
   ]
  },
  {
   "cell_type": "markdown",
   "metadata": {},
   "source": [
    "# Создание модели КNN"
   ]
  },
  {
   "cell_type": "code",
   "execution_count": 74,
   "metadata": {},
   "outputs": [
    {
     "name": "stdout",
     "output_type": "stream",
     "text": [
      "КNN\n",
      "\n",
      "0.308390022675737 10 \n",
      "\n",
      "[[34 11]\n",
      " [18 36]]\n",
      "Специфичность 0.7555555555555555\n",
      "Чувствительность 0.6666666666666666\n",
      "--------------\n",
      "f1ScoreWeighted= 0.7074893056315941\n",
      "f1ScoreMacro= 0.7069511074818822\n",
      "f1ScoreBinary= 0.7128712871287127\n",
      "Точноть 0.7070707070707071\n"
     ]
    },
    {
     "data": {
      "image/png": "[encoded data removed]",
      "text/plain": [
       "<Figure size 432x288 with 2 Axes>"
      ]
     },
     "metadata": {
      "needs_background": "light"
     },
     "output_type": "display_data"
    }
   ],
   "source": [
    "#Создание модели КNN\n",
    "from sklearn.neighbors import KNeighborsClassifier\n",
    "print(\"КNN\\n\")\n",
    "#----------------------------------------------------------------------\n",
    "#GridSearchCV\n",
    "tuned_parameters= list(range(1,30))\n",
    "knnModel = KNeighborsClassifier()\n",
    "grid = GridSearchCV(knnModel, param_grid={'n_neighbors': tuned_parameters},cv=5)\n",
    "grid.fit(normalized_train_dataset, train_target)\n",
    "\n",
    "best_cv_err = 1 - grid.best_score_\n",
    "best_n_neighbors = grid.best_estimator_.n_neighbors\n",
    "print (best_cv_err, best_n_neighbors,\"\\n\")\n",
    "#----------------------------------------------------------------------\n",
    "#Обучение модели с оптимальными параметрами\n",
    "\n",
    "knnModel = KNeighborsClassifier(n_neighbors=best_n_neighbors)\n",
    "knnModel.fit(normalized_train_dataset, train_target)\n",
    "\n",
    "expected = test_target\n",
    "predicted = knnModel.predict(normalized_test_dataset)\n",
    "predicted_knnModel=predicted\n",
    "\n",
    "expected_knnModel_traine = train_target\n",
    "predicted_knnModel_train = knnModel.predict(normalized_train_dataset)\n",
    "#---------------------------------------------------------------------\n",
    "#Отрисовка confusion_matrix\n",
    "\n",
    "cm = metrics.confusion_matrix(expected, predicted_knnModel)\n",
    "print(cm)\n",
    "spec1=cm[0][0]/(cm[0][0]+cm[0][1])\n",
    "spec.append(spec1)\n",
    "ch1=cm[1][1]/(cm[1][0]+cm[1][1])\n",
    "ch.append(ch1)\n",
    "print('Специфичность',spec1)\n",
    "print('Чувствительность',ch1)\n",
    "print('--------------')   \n",
    "\n",
    "ax= plt.subplot()\n",
    "sns.heatmap(cm, annot=True, ax = ax);\n",
    "ax.set_xlabel('Predicted labels');\n",
    "ax.set_ylabel('True labels'); \n",
    "ax.set_title('Confusion Matrix'); \n",
    "# ax.xaxis.set_ticklabels(['К', 'О']); \n",
    "# ax.xaxis.set_ticklabels(['К', 'О']); \n",
    "#--------------------------------------------------------------------\n",
    "#Результаты\n",
    "f1ScoreWeighted=f1_score(test_target, predicted, average='weighted')\n",
    "print(\"f1ScoreWeighted=\",f1ScoreWeighted)\n",
    "\n",
    "f1ScoreMacro=f1_score(test_target, predicted, average='macro')\n",
    "print(\"f1ScoreMacro=\",f1ScoreMacro)\n",
    "      \n",
    "f1ScoreBinary=f1_score(test_target, predicted, average='binary')\n",
    "print(\"f1ScoreBinary=\",f1ScoreBinary)\n",
    "\n",
    "buff_score=knnModel.score(normalized_test_dataset, test_target)\n",
    "Score.append(buff_score)\n",
    "print('Точноть',buff_score)\n",
    "NameModel.append(\"knnModel\")\n",
    "# save,name=saveModel(Score[len(Score)-1],path,NameModel[len(NameModel)-1])\n",
    "# if save==True:\n",
    "#     with open(name, 'wb') as fid:\n",
    "#         pickle.dump(knnModel, fid)"
   ]
  },
  {
   "cell_type": "markdown",
   "metadata": {},
   "source": [
    "# Обучающая выборка"
   ]
  },
  {
   "cell_type": "code",
   "execution_count": 75,
   "metadata": {},
   "outputs": [
    {
     "name": "stdout",
     "output_type": "stream",
     "text": [
      "[[330  70]\n",
      " [167 315]]\n",
      "Специфичность 0.825\n",
      "Чувствительность 0.6535269709543569\n",
      "--------------\n",
      "f1ScoreWeighted= 0.7307897911607426\n",
      "f1ScoreMacro= 0.7312147758965872\n",
      "f1ScoreBinary= 0.726643598615917\n",
      "Точноть 0.7312925170068028\n"
     ]
    },
    {
     "data": {
      "image/png": "[encoded data removed]",
      "text/plain": [
       "<Figure size 432x288 with 2 Axes>"
      ]
     },
     "metadata": {
      "needs_background": "light"
     },
     "output_type": "display_data"
    }
   ],
   "source": [
    "#предсказание\n",
    "expected = train_target\n",
    "predicted = knnModel.predict(normalized_train_dataset)\n",
    "\n",
    "#Отрисовка confusion_matrix\n",
    "cm = metrics.confusion_matrix(expected, predicted)\n",
    "print(cm)\n",
    "spec1=cm[0][0]/(cm[0][0]+cm[0][1])\n",
    "spec.append(spec1)\n",
    "ch1=cm[1][1]/(cm[1][0]+cm[1][1])\n",
    "ch.append(ch1)\n",
    "print('Специфичность',spec1)\n",
    "print('Чувствительность',ch1)\n",
    "print('--------------')\n",
    "    \n",
    "ax= plt.subplot()\n",
    "sns.heatmap(cm, annot=True, ax = ax); #annot=True to annotate cells\n",
    "# labels, title and ticks\n",
    "ax.set_xlabel('Predicted labels');\n",
    "ax.set_ylabel('True labels'); \n",
    "ax.set_title('Confusion Matrix'); \n",
    "\n",
    "f1ScoreWeighted=f1_score(train_target, predicted, average='weighted')\n",
    "print(\"f1ScoreWeighted=\",f1ScoreWeighted)\n",
    "\n",
    "f1ScoreMacro=f1_score(train_target, predicted, average='macro')\n",
    "print(\"f1ScoreMacro=\",f1ScoreMacro)\n",
    "\n",
    "f1ScoreBinary=f1_score(train_target, predicted, average='binary')\n",
    "print(\"f1ScoreBinary=\",f1ScoreBinary)\n",
    "\n",
    "buff_score=knnModel.score(normalized_train_dataset, train_target)\n",
    "print('Точноть',buff_score)"
   ]
  },
  {
   "cell_type": "markdown",
   "metadata": {},
   "source": [
    "# Случайный лес"
   ]
  },
  {
   "cell_type": "code",
   "execution_count": 76,
   "metadata": {},
   "outputs": [
    {
     "name": "stdout",
     "output_type": "stream",
     "text": [
      "err= 0.31746031746031744  best_n_estimators= 45  max_features= 3 \n",
      "\n",
      "[[23 22]\n",
      " [11 43]]\n",
      "Специфичность 0.5111111111111111\n",
      "Чувствительность 0.7962962962962963\n",
      "--------------\n",
      "f1ScoreWeighted= 0.6588660780768004\n",
      "f1ScoreMacro= 0.6524837783214552\n",
      "f1ScoreBinary= 0.7226890756302522\n",
      "Точноть 0.6666666666666666\n"
     ]
    },
    {
     "data": {
      "image/png": "[encoded data removed]",
      "text/plain": [
       "<Figure size 432x288 with 2 Axes>"
      ]
     },
     "metadata": {
      "needs_background": "light"
     },
     "output_type": "display_data"
    }
   ],
   "source": [
    "from sklearn.ensemble import RandomForestClassifier\n",
    "from sklearn import ensemble\n",
    "from sklearn.metrics import roc_auc_score         \n",
    "#----------------------------------------------------------------------\n",
    "#GridSearchCV\n",
    "RDF_model = ensemble.RandomForestClassifier()\n",
    "tuned_parameters={'n_estimators': np.arange(10,100),'max_features':np.arange(1,5)}\n",
    "grid = GridSearchCV(RDF_model, param_grid=tuned_parameters,cv=5)\n",
    "grid.fit(normalized_train_dataset, train_target)\n",
    "\n",
    "best_cv_err = 1 - grid.best_score_\n",
    "best_n_estimators = grid.best_estimator_.n_estimators\n",
    "best_max_features = grid.best_estimator_.max_features\n",
    "print ('err=',best_cv_err, \" best_n_estimators=\",best_n_estimators, \" max_features=\",best_max_features,\"\\n\")\n",
    "#----------------------------------------------------------------------\n",
    "#Обучение модели с оптимальными параметрами\n",
    "\n",
    "RDF_grid_model = RandomForestClassifier(n_estimators=best_n_estimators,max_features=best_max_features,oob_score=True,)\n",
    "RDF_grid_model.fit(normalized_train_dataset, train_target)\n",
    "\n",
    "expected = test_target\n",
    "predicted_RDF = RDF_grid_model.predict(normalized_test_dataset)\n",
    "\n",
    "expected_RDF_grid_traine = train_target\n",
    "predicted_RDF_grid_train = RDF_grid_model.predict(normalized_train_dataset)\n",
    "#---------------------------------------------------------------------\n",
    "#Отрисовка confusion_matrix\n",
    "\n",
    "cm = metrics.confusion_matrix(test_target, predicted_RDF)\n",
    "print(cm)\n",
    "spec1=cm[0][0]/(cm[0][0]+cm[0][1])\n",
    "spec.append(spec1)\n",
    "ch1=cm[1][1]/(cm[1][0]+cm[1][1])\n",
    "ch.append(ch1)\n",
    "print('Специфичность',spec1)\n",
    "print('Чувствительность',ch1)\n",
    "print('--------------')  \n",
    "\n",
    "ax= plt.subplot()\n",
    "sns.heatmap(cm, annot=True, ax = ax);\n",
    "ax.set_xlabel('Predicted labels');\n",
    "ax.set_ylabel('True labels'); \n",
    "ax.set_title('Confusion Matrix'); \n",
    "# ax.xaxis.set_ticklabels(['К', 'О']); \n",
    "# ax.xaxis.set_ticklabels(['К', 'О']); \n",
    "#--------------------------------------------------------------------\n",
    "#Результаты\n",
    "f1ScoreWeighted=f1_score(test_target, predicted_RDF, average='weighted')\n",
    "print(\"f1ScoreWeighted=\",f1ScoreWeighted)\n",
    "\n",
    "f1ScoreMacro=f1_score(test_target, predicted_RDF, average='macro')\n",
    "print(\"f1ScoreMacro=\",f1ScoreMacro)\n",
    "      \n",
    "f1ScoreBinary=f1_score(test_target, predicted_RDF, average='binary')\n",
    "print(\"f1ScoreBinary=\",f1ScoreBinary)\n",
    "\n",
    "buff_score=RDF_grid_model.score(normalized_test_dataset, test_target)\n",
    "Score.append(buff_score)\n",
    "print('Точноть',buff_score)\n",
    "NameModel.append(\"RDF\")\n",
    "# save,name=saveModel(Score[len(Score)-1],path,NameModel[len(NameModel)-1])\n",
    "# if save==True:\n",
    "#     with open(name, 'wb') as fid:\n",
    "#         pickle.dump(RDF_grid_model, fid)"
   ]
  },
  {
   "cell_type": "markdown",
   "metadata": {},
   "source": [
    "# Обучающая выборка"
   ]
  },
  {
   "cell_type": "code",
   "execution_count": 77,
   "metadata": {},
   "outputs": [
    {
     "name": "stdout",
     "output_type": "stream",
     "text": [
      "[[330  70]\n",
      " [167 315]]\n",
      "Специфичность 0.825\n",
      "Чувствительность 0.6535269709543569\n",
      "--------------\n",
      "f1ScoreWeighted= 0.7307897911607426\n",
      "f1ScoreMacro= 0.7312147758965872\n",
      "f1ScoreBinary= 0.726643598615917\n",
      "Точноть 0.7312925170068028\n"
     ]
    },
    {
     "data": {
      "image/png": "[encoded data removed]",
      "text/plain": [
       "<Figure size 432x288 with 2 Axes>"
      ]
     },
     "metadata": {
      "needs_background": "light"
     },
     "output_type": "display_data"
    }
   ],
   "source": [
    "#предсказание\n",
    "expected = train_target\n",
    "predicted = knnModel.predict(normalized_train_dataset)\n",
    "\n",
    "#Отрисовка confusion_matrix\n",
    "cm = metrics.confusion_matrix(expected, predicted)\n",
    "print(cm)\n",
    "spec1=cm[0][0]/(cm[0][0]+cm[0][1])\n",
    "spec.append(spec1)\n",
    "ch1=cm[1][1]/(cm[1][0]+cm[1][1])\n",
    "ch.append(ch1)\n",
    "print('Специфичность',spec1)\n",
    "print('Чувствительность',ch1)\n",
    "print('--------------')\n",
    "    \n",
    "ax= plt.subplot()\n",
    "sns.heatmap(cm, annot=True, ax = ax); #annot=True to annotate cells\n",
    "# labels, title and ticks\n",
    "ax.set_xlabel('Predicted labels');\n",
    "ax.set_ylabel('True labels'); \n",
    "ax.set_title('Confusion Matrix'); \n",
    "\n",
    "f1ScoreWeighted=f1_score(train_target, predicted, average='weighted')\n",
    "print(\"f1ScoreWeighted=\",f1ScoreWeighted)\n",
    "\n",
    "f1ScoreMacro=f1_score(train_target, predicted, average='macro')\n",
    "print(\"f1ScoreMacro=\",f1ScoreMacro)\n",
    "\n",
    "f1ScoreBinary=f1_score(train_target, predicted, average='binary')\n",
    "print(\"f1ScoreBinary=\",f1ScoreBinary)\n",
    "\n",
    "buff_score=knnModel.score(normalized_train_dataset, train_target)\n",
    "print('Точноть',buff_score)"
   ]
  },
  {
   "cell_type": "markdown",
   "metadata": {},
   "source": [
    "# Наивный Байес"
   ]
  },
  {
   "cell_type": "code",
   "execution_count": 78,
   "metadata": {},
   "outputs": [
    {
     "name": "stdout",
     "output_type": "stream",
     "text": [
      "Наивный Байес\n",
      "\n",
      "[[43  2]\n",
      " [45  9]]\n",
      "Специфичность 0.9555555555555556\n",
      "Чувствительность 0.16666666666666666\n",
      "--------------\n",
      "f1ScoreWeighted= 0.44496556075503446\n",
      "f1ScoreMacro= 0.4617698091382302\n",
      "f1ScoreBinary= 0.2769230769230769\n",
      "Точноть 0.5252525252525253\n"
     ]
    },
    {
     "data": {
      "image/png": "[encoded data removed]",
      "text/plain": [
       "<Figure size 432x288 with 2 Axes>"
      ]
     },
     "metadata": {
      "needs_background": "light"
     },
     "output_type": "display_data"
    }
   ],
   "source": [
    "#Использование модели Наивный Байес\n",
    "print(\"Наивный Байес\\n\")\n",
    "from sklearn.naive_bayes import GaussianNB\n",
    "#----------------------------------------------------------------------\n",
    "\n",
    "nbModel = GaussianNB()\n",
    "nbModel.fit(normalized_train_dataset, train_target)\n",
    "\n",
    "expected = test_target\n",
    "predicted = nbModel.predict(normalized_test_dataset)\n",
    "\n",
    "#---------------------------------------------------------------------\n",
    "#Отрисовка confusion_matrix\n",
    "\n",
    "cm = metrics.confusion_matrix(expected, predicted)\n",
    "print(cm)\n",
    "spec1=cm[0][0]/(cm[0][0]+cm[0][1])\n",
    "spec.append(spec1)\n",
    "ch1=cm[1][1]/(cm[1][0]+cm[1][1])\n",
    "ch.append(ch1)\n",
    "print('Специфичность',spec1)\n",
    "print('Чувствительность',ch1)\n",
    "print('--------------') \n",
    "\n",
    "ax= plt.subplot()\n",
    "sns.heatmap(cm, annot=True, ax = ax); #annot=True to annotate cells\n",
    "# labels, title and ticks\n",
    "ax.set_xlabel('Predicted labels');\n",
    "ax.set_ylabel('True labels'); \n",
    "ax.set_title('Confusion Matrix'); \n",
    "# ax.xaxis.set_ticklabels(['К', 'О']); \n",
    "# ax.xaxis.set_ticklabels(['К', 'О']); \n",
    "#--------------------------------------------------------------------\n",
    "#Результы\n",
    "f1ScoreWeighted=f1_score(test_target, predicted, average='weighted')\n",
    "print(\"f1ScoreWeighted=\",f1ScoreWeighted)\n",
    "\n",
    "f1ScoreMacro=f1_score(test_target, predicted, average='macro')\n",
    "print(\"f1ScoreMacro=\",f1ScoreMacro)\n",
    "\n",
    "f1ScoreBinary=f1_score(test_target, predicted, average='binary')\n",
    "print(\"f1ScoreBinary=\",f1ScoreBinary)\n",
    "\n",
    "buff_score=nbModel.score(normalized_test_dataset, test_target)\n",
    "Score.append(buff_score)\n",
    "print('Точноть',buff_score)\n",
    "NameModel.append(\"nbModel\")\n",
    "# save,name=saveModel(Score[len(Score)-1],path,NameModel[len(NameModel)-1])\n",
    "# if save==True:\n",
    "#     with open(name, 'wb') as fid:\n",
    "#         pickle.dump(nbModel, fid)"
   ]
  },
  {
   "cell_type": "markdown",
   "metadata": {},
   "source": [
    "# Обучающая выборка"
   ]
  },
  {
   "cell_type": "code",
   "execution_count": 79,
   "metadata": {},
   "outputs": [
    {
     "name": "stdout",
     "output_type": "stream",
     "text": [
      "[[381  19]\n",
      " [395  87]]\n",
      "Специфичность 0.9525\n",
      "Чувствительность 0.18049792531120332\n",
      "--------------\n",
      "f1ScoreWeighted= 0.45557406636123843\n",
      "f1ScoreMacro= 0.4719387755102041\n",
      "f1ScoreBinary= 0.29591836734693877\n",
      "Точноть 0.5306122448979592\n"
     ]
    },
    {
     "data": {
      "image/png": "[encoded data removed]",
      "text/plain": [
       "<Figure size 432x288 with 2 Axes>"
      ]
     },
     "metadata": {
      "needs_background": "light"
     },
     "output_type": "display_data"
    }
   ],
   "source": [
    "#предсказание\n",
    "expected = train_target\n",
    "predicted = nbModel.predict(normalized_train_dataset)\n",
    "\n",
    "#Отрисовка confusion_matrix\n",
    "cm = metrics.confusion_matrix(expected, predicted)\n",
    "print(cm)\n",
    "spec1=cm[0][0]/(cm[0][0]+cm[0][1])\n",
    "spec.append(spec1)\n",
    "ch1=cm[1][1]/(cm[1][0]+cm[1][1])\n",
    "ch.append(ch1)\n",
    "print('Специфичность',spec1)\n",
    "print('Чувствительность',ch1)\n",
    "print('--------------')\n",
    "    \n",
    "ax= plt.subplot()\n",
    "sns.heatmap(cm, annot=True, ax = ax); #annot=True to annotate cells\n",
    "# labels, title and ticks\n",
    "ax.set_xlabel('Predicted labels');\n",
    "ax.set_ylabel('True labels'); \n",
    "ax.set_title('Confusion Matrix'); \n",
    "\n",
    "f1ScoreWeighted=f1_score(train_target, predicted, average='weighted')\n",
    "print(\"f1ScoreWeighted=\",f1ScoreWeighted)\n",
    "\n",
    "f1ScoreMacro=f1_score(train_target, predicted, average='macro')\n",
    "print(\"f1ScoreMacro=\",f1ScoreMacro)\n",
    "\n",
    "f1ScoreBinary=f1_score(train_target, predicted, average='binary')\n",
    "print(\"f1ScoreBinary=\",f1ScoreBinary)\n",
    "\n",
    "buff_score=nbModel.score(normalized_train_dataset, train_target)\n",
    "print('Точноть',buff_score)"
   ]
  },
  {
   "cell_type": "markdown",
   "metadata": {},
   "source": [
    "# Взвешенное голосование\n",
    "RDF NuSVC2 knn lg cart nbModel"
   ]
  },
  {
   "cell_type": "code",
   "execution_count": 80,
   "metadata": {},
   "outputs": [
    {
     "name": "stdout",
     "output_type": "stream",
     "text": [
      "0.8038548752834467\n",
      "0.8922902494331065\n",
      "0.8560090702947846 \n",
      "\n",
      "0.7272727272727273\n",
      "0.7070707070707071\n",
      "0.696969696969697 \n",
      "\n",
      "[[39  6]\n",
      " [24 30]]\n",
      "Специфичность 0.8666666666666667\n",
      "Чувствительность 0.5555555555555556\n",
      "--------------\n",
      "f1ScoreWeighted= 0.6919191919191919\n",
      "f1ScoreMacro= 0.6944444444444444\n",
      "f1ScoreBinary= 0.6666666666666667\n",
      "Точноть 0.696969696969697\n"
     ]
    },
    {
     "data": {
      "image/png": "[encoded data removed]",
      "text/plain": [
       "<Figure size 432x288 with 2 Axes>"
      ]
     },
     "metadata": {
      "needs_background": "light"
     },
     "output_type": "display_data"
    }
   ],
   "source": [
    "eclf1 = VotingClassifier(estimators=[('RDF',RDF_grid_model),('NuSVC2', NuSVC2), ('knn', knnModel), \n",
    "                                     ('lg', lgModel),('cart', cartModel),('nbModel',nbModel)], \n",
    "                                     voting='hard')\n",
    "eclf1 = eclf1.fit(normalized_train_dataset, train_target)\n",
    "\n",
    "eclf2 = VotingClassifier(estimators=[('RDF',RDF_grid_model),('NuSVC2', NuSVC2), ('knn', knnModel),\n",
    "                                     ('lg', lgModel),('cart', cartModel),('nbModel',nbModel)],\n",
    "                                     voting='soft')\n",
    "eclf2 = eclf2.fit(normalized_train_dataset, train_target)\n",
    "\n",
    "eclf3 = VotingClassifier(estimators=[('RDF',RDF_grid_model),('NuSVC2', NuSVC2), ('knn', knnModel), \n",
    "                                     ('lg', lgModel),('cart', cartModel),('nbModel',nbModel)],\n",
    "                                    voting='soft', flatten_transform=True)\n",
    "eclf3 = eclf3.fit(normalized_train_dataset, train_target)\n",
    "\n",
    "print(eclf1.score( normalized_train_dataset, train_target))\n",
    "print(eclf2.score( normalized_train_dataset, train_target))\n",
    "print(eclf3.score( normalized_train_dataset, train_target),'\\n')\n",
    "\n",
    "print(eclf1.score( normalized_test_dataset, test_target))\n",
    "print(eclf2.score( normalized_test_dataset, test_target))\n",
    "print(eclf3.score( normalized_test_dataset, test_target),'\\n')\n",
    "\n",
    "# Score.append(max(eclf1.score( normalized_test_dataset, test_target),\n",
    "#                            eclf2.score( normalized_test_dataset, test_target),\n",
    "#                            eclf3.score( normalized_test_dataset, test_target)))\n",
    "expected = test_target\n",
    "predicted_VotingClassifier = eclf3.predict(normalized_test_dataset)\n",
    "\n",
    "#---------------------------------------------------------------------\n",
    "#Отрисовка confusion_matrix\n",
    "\n",
    "cm = metrics.confusion_matrix(expected, predicted_VotingClassifier)\n",
    "print(cm)\n",
    "spec1=cm[0][0]/(cm[0][0]+cm[0][1])\n",
    "spec.append(spec1)\n",
    "ch1=cm[1][1]/(cm[1][0]+cm[1][1])\n",
    "ch.append(ch1)\n",
    "print('Специфичность',spec1)\n",
    "print('Чувствительность',ch1)\n",
    "print('--------------')  \n",
    "\n",
    "ax= plt.subplot()\n",
    "sns.heatmap(cm, annot=True, ax = ax);\n",
    "ax.set_xlabel('Predicted labels');\n",
    "ax.set_ylabel('True labels'); \n",
    "ax.set_title('Confusion Matrix');\n",
    "# ax.xaxis.set_ticklabels(['К', 'О']); \n",
    "# ax.xaxis.set_ticklabels(['К', 'О']); \n",
    "#--------------------------------------------------------------------\n",
    "#Результаты\n",
    "f1ScoreWeighted=f1_score(test_target, predicted_VotingClassifier, average='weighted')\n",
    "print(\"f1ScoreWeighted=\",f1ScoreWeighted)\n",
    "\n",
    "f1ScoreMacro=f1_score(test_target, predicted_VotingClassifier, average='macro')\n",
    "print(\"f1ScoreMacro=\",f1ScoreMacro)\n",
    "      \n",
    "f1ScoreBinary=f1_score(test_target, predicted_VotingClassifier, average='binary')\n",
    "print(\"f1ScoreBinary=\",f1ScoreBinary)\n",
    "\n",
    "buff_score=eclf3.score(normalized_test_dataset, test_target)\n",
    "Score.append(buff_score)\n",
    "print('Точноть',buff_score)\n",
    "NameModel.append(\"VotingClassifier1\")"
   ]
  },
  {
   "cell_type": "markdown",
   "metadata": {},
   "source": [
    "# Обучающая выборка"
   ]
  },
  {
   "cell_type": "code",
   "execution_count": 81,
   "metadata": {},
   "outputs": [
    {
     "name": "stdout",
     "output_type": "stream",
     "text": [
      "[[395   5]\n",
      " [122 360]]\n",
      "Специфичность 0.9875\n",
      "Чувствительность 0.7468879668049793\n",
      "--------------\n",
      "f1ScoreWeighted= 0.8552499050877445\n",
      "f1ScoreMacro= 0.8557819695918238\n",
      "f1ScoreBinary= 0.8500590318772137\n",
      "Точноть 0.8560090702947846\n"
     ]
    },
    {
     "data": {
      "image/png": "[encoded data removed]",
      "text/plain": [
       "<Figure size 432x288 with 2 Axes>"
      ]
     },
     "metadata": {
      "needs_background": "light"
     },
     "output_type": "display_data"
    }
   ],
   "source": [
    "#предсказание\n",
    "expected = train_target\n",
    "predicted = eclf3.predict(normalized_train_dataset)\n",
    "\n",
    "#Отрисовка confusion_matrix\n",
    "cm = metrics.confusion_matrix(expected, predicted)\n",
    "print(cm)\n",
    "spec1=cm[0][0]/(cm[0][0]+cm[0][1])\n",
    "spec.append(spec1)\n",
    "ch1=cm[1][1]/(cm[1][0]+cm[1][1])\n",
    "ch.append(ch1)\n",
    "print('Специфичность',spec1)\n",
    "print('Чувствительность',ch1)\n",
    "print('--------------')\n",
    "    \n",
    "ax= plt.subplot()\n",
    "sns.heatmap(cm, annot=True, ax = ax); #annot=True to annotate cells\n",
    "# labels, title and ticks\n",
    "ax.set_xlabel('Predicted labels');\n",
    "ax.set_ylabel('True labels'); \n",
    "ax.set_title('Confusion Matrix'); \n",
    "\n",
    "f1ScoreWeighted=f1_score(train_target, predicted, average='weighted')\n",
    "print(\"f1ScoreWeighted=\",f1ScoreWeighted)\n",
    "\n",
    "f1ScoreMacro=f1_score(train_target, predicted, average='macro')\n",
    "print(\"f1ScoreMacro=\",f1ScoreMacro)\n",
    "\n",
    "f1ScoreBinary=f1_score(train_target, predicted, average='binary')\n",
    "print(\"f1ScoreBinary=\",f1ScoreBinary)\n",
    "\n",
    "buff_score=eclf3.score(normalized_train_dataset, train_target)\n",
    "print('Точноть',buff_score)"
   ]
  },
  {
   "cell_type": "markdown",
   "metadata": {},
   "source": [
    "# Взвешенное голосование\n",
    "\n",
    "RDF NuSVC2 knn lg cart\n"
   ]
  },
  {
   "cell_type": "code",
   "execution_count": 82,
   "metadata": {},
   "outputs": [
    {
     "name": "stdout",
     "output_type": "stream",
     "text": [
      "0.9047619047619048\n",
      "0.971655328798186\n",
      "0.9705215419501134 \n",
      "\n",
      "0.7373737373737373\n",
      "0.7272727272727273\n",
      "0.7575757575757576 \n",
      "\n",
      "[[39  6]\n",
      " [24 30]]\n",
      "Специфичность 0.8666666666666667\n",
      "Чувствительность 0.5555555555555556\n",
      "--------------\n",
      "f1ScoreWeighted= 0.7570247933884297\n",
      "f1ScoreMacro= 0.7545454545454546\n",
      "f1ScoreBinary= 0.7818181818181819\n",
      "Точноть 0.7575757575757576\n"
     ]
    },
    {
     "data": {
      "image/png": "[encoded data removed]",
      "text/plain": [
       "<Figure size 432x288 with 2 Axes>"
      ]
     },
     "metadata": {
      "needs_background": "light"
     },
     "output_type": "display_data"
    }
   ],
   "source": [
    "eclf1 = VotingClassifier(estimators=[('RDF',RDF_grid_model),('NuSVC2', NuSVC2), ('knn', knnModel), \n",
    "                                     ('lg', lgModel),('cart', cartModel)], \n",
    "                                     voting='hard')\n",
    "eclf1 = eclf1.fit(normalized_train_dataset, train_target)\n",
    "\n",
    "eclf2 = VotingClassifier(estimators=[('RDF',RDF_grid_model),('NuSVC2', NuSVC2), ('knn', knnModel),\n",
    "                                     ('lg', lgModel),('cart', cartModel)],\n",
    "                                     voting='soft')\n",
    "eclf2 = eclf2.fit(normalized_train_dataset, train_target)\n",
    "\n",
    "eclf3 = VotingClassifier(estimators=[('RDF',RDF_grid_model),('NuSVC2', NuSVC2), ('knn', knnModel), \n",
    "                                     ('lg', lgModel),('cart', cartModel)],\n",
    "                                    voting='soft', flatten_transform=True)\n",
    "eclf3 = eclf3.fit(normalized_train_dataset, train_target)\n",
    "\n",
    "print(eclf1.score( normalized_train_dataset, train_target))\n",
    "print(eclf2.score( normalized_train_dataset, train_target))\n",
    "print(eclf3.score( normalized_train_dataset, train_target),'\\n')\n",
    "\n",
    "print(eclf1.score( normalized_test_dataset, test_target))\n",
    "print(eclf2.score( normalized_test_dataset, test_target))\n",
    "print(eclf3.score( normalized_test_dataset, test_target),'\\n')\n",
    "\n",
    "# Score.append(max(eclf1.score( normalized_test_dataset, test_target),\n",
    "#                            eclf2.score( normalized_test_dataset, test_target),\n",
    "#                            eclf3.score( normalized_test_dataset, test_target)))\n",
    "expected = test_target\n",
    "predicted_VotingClassifier2 = eclf3.predict(normalized_test_dataset)\n",
    "\n",
    "#---------------------------------------------------------------------\n",
    "#Отрисовка confusion_matrix\n",
    "cm = metrics.confusion_matrix(expected, predicted_VotingClassifier)\n",
    "print(cm)\n",
    "spec1=cm[0][0]/(cm[0][0]+cm[0][1])\n",
    "spec.append(spec1)\n",
    "ch1=cm[1][1]/(cm[1][0]+cm[1][1])\n",
    "ch.append(ch1)\n",
    "print('Специфичность',spec1)\n",
    "print('Чувствительность',ch1)\n",
    "print('--------------')\n",
    "\n",
    "ax = plt.subplot()\n",
    "sns.heatmap(cm, annot=True, ax = ax);\n",
    "ax.set_xlabel('Predicted labels');\n",
    "ax.set_ylabel('True labels'); \n",
    "ax.set_title('Confusion Matrix'); \n",
    "# ax.xaxis.set_ticklabels(['К', 'О']); \n",
    "# ax.xaxis.set_ticklabels(['К', 'О']); \n",
    "#--------------------------------------------------------------------\n",
    "#Результаты\n",
    "f1ScoreWeighted_VotingClassifier2=f1_score(test_target, predicted_VotingClassifier2, average='weighted')\n",
    "print(\"f1ScoreWeighted=\",f1ScoreWeighted_VotingClassifier2)\n",
    "\n",
    "f1ScoreMacro_VotingClassifier2=f1_score(test_target, predicted_VotingClassifier2, average='macro')\n",
    "print(\"f1ScoreMacro=\",f1ScoreMacro_VotingClassifier2)\n",
    "      \n",
    "f1ScoreBinary_VotingClassifier2=f1_score(test_target, predicted_VotingClassifier2, average='binary')\n",
    "print(\"f1ScoreBinary=\",f1ScoreBinary_VotingClassifier2)\n",
    "\n",
    "buff_score=eclf3.score(normalized_test_dataset, test_target)\n",
    "Score.append(buff_score)\n",
    "print('Точноть',buff_score)\n",
    "NameModel.append(\"VotingClassifier2\")\n",
    "# save,name=saveModel(Score[len(Score)-1],path,NameModel[len(NameModel)-1])\n",
    "# if save==True:\n",
    "#     with open(name, 'wb') as fid:\n",
    "#         pickle.dump(eclf3, fid)"
   ]
  },
  {
   "cell_type": "markdown",
   "metadata": {},
   "source": [
    "# Обучающая выборка"
   ]
  },
  {
   "cell_type": "code",
   "execution_count": 83,
   "metadata": {},
   "outputs": [
    {
     "name": "stdout",
     "output_type": "stream",
     "text": [
      "[[392   8]\n",
      " [ 18 464]]\n",
      "Специфичность 0.98\n",
      "Чувствительность 0.9626556016597511\n",
      "--------------\n",
      "f1ScoreWeighted= 0.9705490084845181\n",
      "f1ScoreMacro= 0.9703237829023992\n",
      "f1ScoreBinary= 0.9727463312368972\n",
      "Точноть 0.9705215419501134\n"
     ]
    },
    {
     "data": {
      "image/png": "[encoded data removed]",
      "text/plain": [
       "<Figure size 432x288 with 2 Axes>"
      ]
     },
     "metadata": {
      "needs_background": "light"
     },
     "output_type": "display_data"
    }
   ],
   "source": [
    "#предсказание\n",
    "expected = train_target\n",
    "predicted = eclf3.predict(normalized_train_dataset)\n",
    "\n",
    "#Отрисовка confusion_matrix\n",
    "cm = metrics.confusion_matrix(expected, predicted)\n",
    "print(cm)\n",
    "spec1=cm[0][0]/(cm[0][0]+cm[0][1])\n",
    "spec.append(spec1)\n",
    "ch1=cm[1][1]/(cm[1][0]+cm[1][1])\n",
    "ch.append(ch1)\n",
    "print('Специфичность',spec1)\n",
    "print('Чувствительность',ch1)\n",
    "print('--------------')\n",
    "    \n",
    "ax= plt.subplot()\n",
    "sns.heatmap(cm, annot=True, ax = ax); #annot=True to annotate cells\n",
    "# labels, title and ticks\n",
    "ax.set_xlabel('Predicted labels');\n",
    "ax.set_ylabel('True labels'); \n",
    "ax.set_title('Confusion Matrix'); \n",
    "\n",
    "f1ScoreWeighted=f1_score(train_target, predicted, average='weighted')\n",
    "print(\"f1ScoreWeighted=\",f1ScoreWeighted)\n",
    "\n",
    "f1ScoreMacro=f1_score(train_target, predicted, average='macro')\n",
    "print(\"f1ScoreMacro=\",f1ScoreMacro)\n",
    "\n",
    "f1ScoreBinary=f1_score(train_target, predicted, average='binary')\n",
    "print(\"f1ScoreBinary=\",f1ScoreBinary)\n",
    "\n",
    "buff_score=eclf3.score(normalized_train_dataset, train_target)\n",
    "print('Точноть',buff_score)"
   ]
  },
  {
   "cell_type": "markdown",
   "metadata": {},
   "source": [
    "# Взвешенное голосование\n",
    "\n",
    "RDF knn lg"
   ]
  },
  {
   "cell_type": "code",
   "execution_count": 84,
   "metadata": {},
   "outputs": [
    {
     "name": "stdout",
     "output_type": "stream",
     "text": [
      "0.8990929705215419\n",
      "0.9421768707482994\n",
      "0.9478458049886621 \n",
      "\n",
      "0.7171717171717171\n",
      "0.7373737373737373\n",
      "0.7676767676767676 \n",
      "\n",
      "[[37  8]\n",
      " [15 39]]\n",
      "Специфичность 0.8222222222222222\n",
      "Чувствительность 0.7222222222222222\n",
      "--------------\n",
      "f1ScoreWeighted= 0.7680087596388505\n",
      "f1ScoreMacro= 0.7675819128304584\n",
      "f1ScoreBinary= 0.7722772277227723\n",
      "Точноть 0.7676767676767676\n"
     ]
    },
    {
     "data": {
      "image/png": "[encoded data removed]",
      "text/plain": [
       "<Figure size 432x288 with 2 Axes>"
      ]
     },
     "metadata": {
      "needs_background": "light"
     },
     "output_type": "display_data"
    }
   ],
   "source": [
    "eclf1 = VotingClassifier(estimators=[('RDF',RDF_grid_model),('knn', knnModel), \n",
    "                                     ('lg', lgModel),], \n",
    "                                     voting='hard')\n",
    "eclf1 = eclf1.fit(normalized_train_dataset, train_target)\n",
    "\n",
    "eclf2 = VotingClassifier(estimators=[('RDF',RDF_grid_model),('knn', knnModel),\n",
    "                                     ('lg', lgModel)],\n",
    "                                     voting='soft')\n",
    "eclf2 = eclf2.fit(normalized_train_dataset, train_target)\n",
    "\n",
    "eclf3 = VotingClassifier(estimators=[('RDF',RDF_grid_model),('knn', knnModel), \n",
    "                                     ('lg', lgModel),],\n",
    "                                    voting='soft', flatten_transform=True)\n",
    "eclf3 = eclf3.fit(normalized_train_dataset, train_target)\n",
    "\n",
    "print(eclf1.score( normalized_train_dataset, train_target))\n",
    "print(eclf2.score( normalized_train_dataset, train_target))\n",
    "print(eclf3.score( normalized_train_dataset, train_target),'\\n')\n",
    "\n",
    "print(eclf1.score( normalized_test_dataset, test_target))\n",
    "print(eclf2.score( normalized_test_dataset, test_target))\n",
    "print(eclf3.score( normalized_test_dataset, test_target),'\\n')\n",
    "\n",
    "# Score.append(max(eclf1.score( normalized_test_dataset, test_target),\n",
    "#                            eclf2.score( normalized_test_dataset, test_target),\n",
    "#                            eclf3.score( normalized_test_dataset, test_target)))\n",
    "expected = test_target\n",
    "predicted_VotingClassifier3 = eclf3.predict(normalized_test_dataset)\n",
    "\n",
    "#---------------------------------------------------------------------\n",
    "#Отрисовка confusion_matrix\n",
    "cm = metrics.confusion_matrix(expected, predicted_VotingClassifier3)\n",
    "print(cm)\n",
    "spec1=cm[0][0]/(cm[0][0]+cm[0][1])\n",
    "spec.append(spec1)\n",
    "ch1=cm[1][1]/(cm[1][0]+cm[1][1])\n",
    "ch.append(ch1)\n",
    "print('Специфичность',spec1)\n",
    "print('Чувствительность',ch1)\n",
    "print('--------------')\n",
    "\n",
    "ax= plt.subplot()\n",
    "sns.heatmap(cm, annot=True, ax = ax);\n",
    "ax.set_xlabel('Predicted labels');\n",
    "ax.set_ylabel('True labels'); \n",
    "ax.set_title('Confusion Matrix'); \n",
    "# ax.xaxis.set_ticklabels(['О', 'К']); \n",
    "# ax.yaxis.set_ticklabels(['О', 'К']);\n",
    "#--------------------------------------------------------------------\n",
    "#Результаты\n",
    "f1ScoreWeighted_VotingClassifier3=f1_score(test_target, predicted_VotingClassifier3, average='weighted')\n",
    "print(\"f1ScoreWeighted=\",f1ScoreWeighted_VotingClassifier3)\n",
    "\n",
    "f1ScoreMacro_VotingClassifier3=f1_score(test_target, predicted_VotingClassifier3, average='macro')\n",
    "print(\"f1ScoreMacro=\",f1ScoreMacro_VotingClassifier3)\n",
    "      \n",
    "f1ScoreBinary_VotingClassifier3=f1_score(test_target, predicted_VotingClassifier3, average='binary')\n",
    "print(\"f1ScoreBinary=\",f1ScoreBinary_VotingClassifier3)\n",
    "\n",
    "buff_score=eclf3.score(normalized_test_dataset, test_target)\n",
    "Score.append(buff_score)\n",
    "print('Точноть',buff_score)\n",
    "NameModel.append(\"VotingClassifier3\")\n",
    "# save,name=saveModel(Score[len(Score)-1],path,NameModel[len(NameModel)-1])\n",
    "# if save==True:\n",
    "#     with open(name, 'wb') as fid:\n",
    "#         pickle.dump(eclf3, fid)"
   ]
  },
  {
   "cell_type": "markdown",
   "metadata": {},
   "source": [
    "# Обучающая выборка"
   ]
  },
  {
   "cell_type": "code",
   "execution_count": 85,
   "metadata": {},
   "outputs": [
    {
     "name": "stdout",
     "output_type": "stream",
     "text": [
      "[[386  14]\n",
      " [ 32 450]]\n",
      "Специфичность 0.965\n",
      "Чувствительность 0.9336099585062241\n",
      "--------------\n",
      "f1ScoreWeighted= 0.9479234470908517\n",
      "f1ScoreMacro= 0.9475697441808775\n",
      "f1ScoreBinary= 0.9513742071881607\n",
      "Точноть 0.9478458049886621\n"
     ]
    },
    {
     "data": {
      "image/png": "[encoded data removed]",
      "text/plain": [
       "<Figure size 432x288 with 2 Axes>"
      ]
     },
     "metadata": {
      "needs_background": "light"
     },
     "output_type": "display_data"
    }
   ],
   "source": [
    "#предсказание\n",
    "expected = train_target\n",
    "predicted = eclf3.predict(normalized_train_dataset)\n",
    "\n",
    "#Отрисовка confusion_matrix\n",
    "cm = metrics.confusion_matrix(expected, predicted)\n",
    "print(cm)\n",
    "spec1=cm[0][0]/(cm[0][0]+cm[0][1])\n",
    "spec.append(spec1)\n",
    "ch1=cm[1][1]/(cm[1][0]+cm[1][1])\n",
    "ch.append(ch1)\n",
    "print('Специфичность',spec1)\n",
    "print('Чувствительность',ch1)\n",
    "print('--------------')\n",
    "    \n",
    "ax= plt.subplot()\n",
    "sns.heatmap(cm, annot=True, ax = ax); #annot=True to annotate cells\n",
    "# labels, title and ticks\n",
    "ax.set_xlabel('Predicted labels');\n",
    "ax.set_ylabel('True labels'); \n",
    "ax.set_title('Confusion Matrix'); \n",
    "\n",
    "f1ScoreWeighted=f1_score(train_target, predicted, average='weighted')\n",
    "print(\"f1ScoreWeighted=\",f1ScoreWeighted)\n",
    "\n",
    "f1ScoreMacro=f1_score(train_target, predicted, average='macro')\n",
    "print(\"f1ScoreMacro=\",f1ScoreMacro)\n",
    "\n",
    "f1ScoreBinary=f1_score(train_target, predicted, average='binary')\n",
    "print(\"f1ScoreBinary=\",f1ScoreBinary)\n",
    "\n",
    "buff_score=eclf3.score(normalized_train_dataset, train_target)\n",
    "print('Точноть',buff_score)"
   ]
  },
  {
   "cell_type": "code",
   "execution_count": null,
   "metadata": {},
   "outputs": [],
   "source": []
  },
  {
   "cell_type": "code",
   "execution_count": null,
   "metadata": {},
   "outputs": [],
   "source": []
  },
  {
   "cell_type": "code",
   "execution_count": null,
   "metadata": {},
   "outputs": [],
   "source": []
  },
  {
   "cell_type": "code",
   "execution_count": null,
   "metadata": {},
   "outputs": [],
   "source": []
  },
  {
   "cell_type": "code",
   "execution_count": null,
   "metadata": {},
   "outputs": [],
   "source": []
  },
  {
   "cell_type": "code",
   "execution_count": null,
   "metadata": {},
   "outputs": [],
   "source": []
  },
  {
   "cell_type": "code",
   "execution_count": 86,
   "metadata": {},
   "outputs": [
    {
     "name": "stderr",
     "output_type": "stream",
     "text": [
      "No handles with labels found to put in legend.\n"
     ]
    },
    {
     "name": "stdout",
     "output_type": "stream",
     "text": [
      "[0.696969696969697, 0.6262626262626263, 0.7676767676767676, 0.7070707070707071, 0.6666666666666666, 0.5252525252525253, 0.696969696969697, 0.7575757575757576, 0.7676767676767676]\n",
      "['nuSVC', 'cartModel', 'lgModel', 'knnModel', 'RDF', 'nbModel', 'VotingClassifier1', 'VotingClassifier2', 'VotingClassifier3']\n"
     ]
    },
    {
     "data": {
      "image/png": "[encoded data removed]",
      "text/plain": [
       "<Figure size 512x384 with 1 Axes>"
      ]
     },
     "metadata": {
      "needs_background": "light"
     },
     "output_type": "display_data"
    }
   ],
   "source": [
    "print(Score)\n",
    "print(NameModel)\n",
    "# Score=[0.6649484536082475, 0.6925064599483205, 0.7614213197969544, 0.6577181208053692, 0.6909090909090908, 0.555979381443296]\n",
    "# NameModel=['SVC', 'CART', 'LR', 'KNN','RDF','NB']\n",
    "# Score=[0.6649484536082475, 0.6925064599483205, 0.7614213197969544, 0.6577181208053692, 0.6909090909090908, 0.28865979381443296, 0.7520000000000001, 0.7365269461077845, 0.8010471204188482, 0.6909090909090908, 0.7152941176470589, 0.702127659574468, 0.7136150234741784]\n",
    "# NameModel=['nuSVC', 'cartModel', 'lgModel', 'knnModel', 'RDF', 'nbModel', 'VotingClassifier1', 'VotingClassifier2', 'VotingClassifier3', 'stacker_Ridge', 'stacker Log Reg', 'stackerknnModel', 'stacker_RDF_grid']\n",
    "\n",
    "from pandas import date_range,Series,DataFrame,read_csv, qcut\n",
    "from numpy.random import rand\n",
    "\n",
    "#df2 = pd.DataFrame(a, columns=['NameModel'])\n",
    "#df2.plot(kind='bar');\n",
    "\n",
    "dpi = 80\n",
    "fig = plt.figure(dpi = dpi, figsize = (512 / dpi, 384 / dpi) )\n",
    "mpl.rcParams.update({'font.size': 10})\n",
    "plt.title('Raman Models')\n",
    "ax = plt.axes()\n",
    "ax.yaxis.grid(True, zorder = 1)\n",
    "xs = range(len(NameModel))\n",
    "plt.bar([x + 0.3 for x in xs], Score,\n",
    "        width = 0.2, color = 'blue', alpha = 0.7,\n",
    "        zorder = 2)\n",
    "plt.xticks(xs,NameModel)\n",
    "\n",
    "fig.autofmt_xdate(rotation = 25)\n",
    "\n",
    "plt.legend(loc='upper right')\n",
    "fig.savefig('Score.png')"
   ]
  },
  {
   "cell_type": "code",
   "execution_count": 87,
   "metadata": {},
   "outputs": [
    {
     "name": "stdout",
     "output_type": "stream",
     "text": [
      "[73.33333333333333, 94.75, 44.44444444444444, 80.5, 77.77777777777779, 89.5, 75.55555555555556, 82.5, 51.11111111111111, 82.5, 95.55555555555556, 95.25, 86.66666666666667, 98.75, 86.66666666666667, 98.0, 82.22222222222221, 96.5]\n"
     ]
    },
    {
     "ename": "ValueError",
     "evalue": "shape mismatch: objects cannot be broadcast to a single shape",
     "output_type": "error",
     "traceback": [
      "\u001b[1;31m---------------------------------------------------------------------------\u001b[0m",
      "\u001b[1;31mValueError\u001b[0m                                Traceback (most recent call last)",
      "\u001b[1;32m<ipython-input-87-fab1d3d42cf9>\u001b[0m in \u001b[0;36m<module>\u001b[1;34m\u001b[0m\n\u001b[0;32m     16\u001b[0m plt.bar([x + 0.3 for x in xs], spec,\n\u001b[0;32m     17\u001b[0m         \u001b[0mwidth\u001b[0m \u001b[1;33m=\u001b[0m \u001b[1;36m0.2\u001b[0m\u001b[1;33m,\u001b[0m \u001b[0mcolor\u001b[0m \u001b[1;33m=\u001b[0m \u001b[1;34m'blue'\u001b[0m\u001b[1;33m,\u001b[0m \u001b[0malpha\u001b[0m \u001b[1;33m=\u001b[0m \u001b[1;36m0.7\u001b[0m\u001b[1;33m,\u001b[0m\u001b[1;33m\u001b[0m\u001b[1;33m\u001b[0m\u001b[0m\n\u001b[1;32m---> 18\u001b[1;33m         zorder = 2)\n\u001b[0m\u001b[0;32m     19\u001b[0m \u001b[0mplt\u001b[0m\u001b[1;33m.\u001b[0m\u001b[0mxticks\u001b[0m\u001b[1;33m(\u001b[0m\u001b[0mxs\u001b[0m\u001b[1;33m,\u001b[0m\u001b[0mNameModel\u001b[0m\u001b[1;33m)\u001b[0m\u001b[1;33m\u001b[0m\u001b[1;33m\u001b[0m\u001b[0m\n\u001b[0;32m     20\u001b[0m \u001b[1;33m\u001b[0m\u001b[0m\n",
      "\u001b[1;32m~\\Anaconda3\\lib\\site-packages\\matplotlib\\pyplot.py\u001b[0m in \u001b[0;36mbar\u001b[1;34m(x, height, width, bottom, align, data, **kwargs)\u001b[0m\n\u001b[0;32m   2457\u001b[0m     return gca().bar(\n\u001b[0;32m   2458\u001b[0m         \u001b[0mx\u001b[0m\u001b[1;33m,\u001b[0m \u001b[0mheight\u001b[0m\u001b[1;33m,\u001b[0m \u001b[0mwidth\u001b[0m\u001b[1;33m=\u001b[0m\u001b[0mwidth\u001b[0m\u001b[1;33m,\u001b[0m \u001b[0mbottom\u001b[0m\u001b[1;33m=\u001b[0m\u001b[0mbottom\u001b[0m\u001b[1;33m,\u001b[0m \u001b[0malign\u001b[0m\u001b[1;33m=\u001b[0m\u001b[0malign\u001b[0m\u001b[1;33m,\u001b[0m\u001b[1;33m\u001b[0m\u001b[1;33m\u001b[0m\u001b[0m\n\u001b[1;32m-> 2459\u001b[1;33m         **({\"data\": data} if data is not None else {}), **kwargs)\n\u001b[0m\u001b[0;32m   2460\u001b[0m \u001b[1;33m\u001b[0m\u001b[0m\n\u001b[0;32m   2461\u001b[0m \u001b[1;33m\u001b[0m\u001b[0m\n",
      "\u001b[1;32m~\\Anaconda3\\lib\\site-packages\\matplotlib\\__init__.py\u001b[0m in \u001b[0;36minner\u001b[1;34m(ax, data, *args, **kwargs)\u001b[0m\n\u001b[0;32m   1808\u001b[0m                         \u001b[1;34m\"the Matplotlib list!)\"\u001b[0m \u001b[1;33m%\u001b[0m \u001b[1;33m(\u001b[0m\u001b[0mlabel_namer\u001b[0m\u001b[1;33m,\u001b[0m \u001b[0mfunc\u001b[0m\u001b[1;33m.\u001b[0m\u001b[0m__name__\u001b[0m\u001b[1;33m)\u001b[0m\u001b[1;33m,\u001b[0m\u001b[1;33m\u001b[0m\u001b[1;33m\u001b[0m\u001b[0m\n\u001b[0;32m   1809\u001b[0m                         RuntimeWarning, stacklevel=2)\n\u001b[1;32m-> 1810\u001b[1;33m             \u001b[1;32mreturn\u001b[0m \u001b[0mfunc\u001b[0m\u001b[1;33m(\u001b[0m\u001b[0max\u001b[0m\u001b[1;33m,\u001b[0m \u001b[1;33m*\u001b[0m\u001b[0margs\u001b[0m\u001b[1;33m,\u001b[0m \u001b[1;33m**\u001b[0m\u001b[0mkwargs\u001b[0m\u001b[1;33m)\u001b[0m\u001b[1;33m\u001b[0m\u001b[1;33m\u001b[0m\u001b[0m\n\u001b[0m\u001b[0;32m   1811\u001b[0m \u001b[1;33m\u001b[0m\u001b[0m\n\u001b[0;32m   1812\u001b[0m         inner.__doc__ = _add_data_doc(inner.__doc__,\n",
      "\u001b[1;32m~\\Anaconda3\\lib\\site-packages\\matplotlib\\axes\\_axes.py\u001b[0m in \u001b[0;36mbar\u001b[1;34m(self, x, height, width, bottom, align, **kwargs)\u001b[0m\n\u001b[0;32m   2249\u001b[0m         x, height, width, y, linewidth = np.broadcast_arrays(\n\u001b[0;32m   2250\u001b[0m             \u001b[1;31m# Make args iterable too.\u001b[0m\u001b[1;33m\u001b[0m\u001b[1;33m\u001b[0m\u001b[1;33m\u001b[0m\u001b[0m\n\u001b[1;32m-> 2251\u001b[1;33m             np.atleast_1d(x), height, width, y, linewidth)\n\u001b[0m\u001b[0;32m   2252\u001b[0m \u001b[1;33m\u001b[0m\u001b[0m\n\u001b[0;32m   2253\u001b[0m         \u001b[1;31m# Now that units have been converted, set the tick locations.\u001b[0m\u001b[1;33m\u001b[0m\u001b[1;33m\u001b[0m\u001b[1;33m\u001b[0m\u001b[0m\n",
      "\u001b[1;32m~\\Anaconda3\\lib\\site-packages\\numpy\\lib\\stride_tricks.py\u001b[0m in \u001b[0;36mbroadcast_arrays\u001b[1;34m(*args, **kwargs)\u001b[0m\n\u001b[0;32m    250\u001b[0m     \u001b[0margs\u001b[0m \u001b[1;33m=\u001b[0m \u001b[1;33m[\u001b[0m\u001b[0mnp\u001b[0m\u001b[1;33m.\u001b[0m\u001b[0marray\u001b[0m\u001b[1;33m(\u001b[0m\u001b[0m_m\u001b[0m\u001b[1;33m,\u001b[0m \u001b[0mcopy\u001b[0m\u001b[1;33m=\u001b[0m\u001b[1;32mFalse\u001b[0m\u001b[1;33m,\u001b[0m \u001b[0msubok\u001b[0m\u001b[1;33m=\u001b[0m\u001b[0msubok\u001b[0m\u001b[1;33m)\u001b[0m \u001b[1;32mfor\u001b[0m \u001b[0m_m\u001b[0m \u001b[1;32min\u001b[0m \u001b[0margs\u001b[0m\u001b[1;33m]\u001b[0m\u001b[1;33m\u001b[0m\u001b[1;33m\u001b[0m\u001b[0m\n\u001b[0;32m    251\u001b[0m \u001b[1;33m\u001b[0m\u001b[0m\n\u001b[1;32m--> 252\u001b[1;33m     \u001b[0mshape\u001b[0m \u001b[1;33m=\u001b[0m \u001b[0m_broadcast_shape\u001b[0m\u001b[1;33m(\u001b[0m\u001b[1;33m*\u001b[0m\u001b[0margs\u001b[0m\u001b[1;33m)\u001b[0m\u001b[1;33m\u001b[0m\u001b[1;33m\u001b[0m\u001b[0m\n\u001b[0m\u001b[0;32m    253\u001b[0m \u001b[1;33m\u001b[0m\u001b[0m\n\u001b[0;32m    254\u001b[0m     \u001b[1;32mif\u001b[0m \u001b[0mall\u001b[0m\u001b[1;33m(\u001b[0m\u001b[0marray\u001b[0m\u001b[1;33m.\u001b[0m\u001b[0mshape\u001b[0m \u001b[1;33m==\u001b[0m \u001b[0mshape\u001b[0m \u001b[1;32mfor\u001b[0m \u001b[0marray\u001b[0m \u001b[1;32min\u001b[0m \u001b[0margs\u001b[0m\u001b[1;33m)\u001b[0m\u001b[1;33m:\u001b[0m\u001b[1;33m\u001b[0m\u001b[1;33m\u001b[0m\u001b[0m\n",
      "\u001b[1;32m~\\Anaconda3\\lib\\site-packages\\numpy\\lib\\stride_tricks.py\u001b[0m in \u001b[0;36m_broadcast_shape\u001b[1;34m(*args)\u001b[0m\n\u001b[0;32m    185\u001b[0m     \u001b[1;31m# use the old-iterator because np.nditer does not handle size 0 arrays\u001b[0m\u001b[1;33m\u001b[0m\u001b[1;33m\u001b[0m\u001b[1;33m\u001b[0m\u001b[0m\n\u001b[0;32m    186\u001b[0m     \u001b[1;31m# consistently\u001b[0m\u001b[1;33m\u001b[0m\u001b[1;33m\u001b[0m\u001b[1;33m\u001b[0m\u001b[0m\n\u001b[1;32m--> 187\u001b[1;33m     \u001b[0mb\u001b[0m \u001b[1;33m=\u001b[0m \u001b[0mnp\u001b[0m\u001b[1;33m.\u001b[0m\u001b[0mbroadcast\u001b[0m\u001b[1;33m(\u001b[0m\u001b[1;33m*\u001b[0m\u001b[0margs\u001b[0m\u001b[1;33m[\u001b[0m\u001b[1;33m:\u001b[0m\u001b[1;36m32\u001b[0m\u001b[1;33m]\u001b[0m\u001b[1;33m)\u001b[0m\u001b[1;33m\u001b[0m\u001b[1;33m\u001b[0m\u001b[0m\n\u001b[0m\u001b[0;32m    188\u001b[0m     \u001b[1;31m# unfortunately, it cannot handle 32 or more arguments directly\u001b[0m\u001b[1;33m\u001b[0m\u001b[1;33m\u001b[0m\u001b[1;33m\u001b[0m\u001b[0m\n\u001b[0;32m    189\u001b[0m     \u001b[1;32mfor\u001b[0m \u001b[0mpos\u001b[0m \u001b[1;32min\u001b[0m \u001b[0mrange\u001b[0m\u001b[1;33m(\u001b[0m\u001b[1;36m32\u001b[0m\u001b[1;33m,\u001b[0m \u001b[0mlen\u001b[0m\u001b[1;33m(\u001b[0m\u001b[0margs\u001b[0m\u001b[1;33m)\u001b[0m\u001b[1;33m,\u001b[0m \u001b[1;36m31\u001b[0m\u001b[1;33m)\u001b[0m\u001b[1;33m:\u001b[0m\u001b[1;33m\u001b[0m\u001b[1;33m\u001b[0m\u001b[0m\n",
      "\u001b[1;31mValueError\u001b[0m: shape mismatch: objects cannot be broadcast to a single shape"
     ]
    },
    {
     "data": {
      "image/png": "[encoded data removed]",
      "text/plain": [
       "<Figure size 512x384 with 1 Axes>"
      ]
     },
     "metadata": {
      "needs_background": "light"
     },
     "output_type": "display_data"
    }
   ],
   "source": [
    "spec=[i * 100 for i in spec]\n",
    "print(spec)\n",
    "from pandas import date_range,Series,DataFrame,read_csv, qcut\n",
    "from numpy.random import rand\n",
    "\n",
    "#df2 = pd.DataFrame(a, columns=['NameModel'])\n",
    "#df2.plot(kind='bar');\n",
    "\n",
    "dpi = 80\n",
    "fig = plt.figure(dpi = dpi, figsize = (512 / dpi, 384 / dpi) )\n",
    "mpl.rcParams.update({'font.size': 10})\n",
    "plt.title('Специфичность')\n",
    "ax = plt.axes()\n",
    "ax.yaxis.grid(True, zorder = 1)\n",
    "xs = range(len(NameModel))\n",
    "plt.bar([x + 0.3 for x in xs], spec,\n",
    "        width = 0.2, color = 'blue', alpha = 0.7,\n",
    "        zorder = 2)\n",
    "plt.xticks(xs,NameModel)\n",
    "\n",
    "fig.autofmt_xdate(rotation = 25)\n",
    "\n",
    "plt.legend(loc='upper right')\n",
    "fig.savefig('spec.png')"
   ]
  },
  {
   "cell_type": "code",
   "execution_count": null,
   "metadata": {},
   "outputs": [],
   "source": [
    "ch=[i * 100 for i in ch]\n",
    "print(ch)\n",
    "from pandas import date_range,Series,DataFrame,read_csv, qcut\n",
    "from numpy.random import rand\n",
    "\n",
    "#df2 = pd.DataFrame(a, columns=['NameModel'])\n",
    "#df2.plot(kind='bar');\n",
    "\n",
    "dpi = 80\n",
    "fig = plt.figure(dpi = dpi, figsize = (512 / dpi, 384 / dpi) )\n",
    "mpl.rcParams.update({'font.size': 10})\n",
    "plt.title('Чувствительность')\n",
    "ax = plt.axes()\n",
    "ax.yaxis.grid(True, zorder = 1)\n",
    "xs = range(len(NameModel))\n",
    "plt.bar([x + 0.3 for x in xs], ch,\n",
    "        width = 0.2, color = 'blue', alpha = 0.7,\n",
    "        zorder = 2)\n",
    "plt.xticks(xs,NameModel)\n",
    "\n",
    "fig.autofmt_xdate(rotation = 25)\n",
    "\n",
    "plt.legend(loc='upper right')\n",
    "fig.savefig('ch.png')"
   ]
  },
  {
   "cell_type": "code",
   "execution_count": null,
   "metadata": {},
   "outputs": [],
   "source": []
  },
  {
   "cell_type": "code",
   "execution_count": null,
   "metadata": {},
   "outputs": [],
   "source": []
  },
  {
   "cell_type": "code",
   "execution_count": null,
   "metadata": {},
   "outputs": [],
   "source": []
  },
  {
   "cell_type": "code",
   "execution_count": null,
   "metadata": {},
   "outputs": [],
   "source": []
  }
 ],
 "metadata": {
  "kernelspec": {
   "display_name": "Python 3",
   "language": "python",
   "name": "python3"
  },
  "language_info": {
   "codemirror_mode": {
    "name": "ipython",
    "version": 3
   },
   "file_extension": ".py",
   "mimetype": "text/x-python",
   "name": "python",
   "nbconvert_exporter": "python",
   "pygments_lexer": "ipython3",
   "version": "3.6.7"
  }
 },
 "nbformat": 4,
 "nbformat_minor": 2
}
